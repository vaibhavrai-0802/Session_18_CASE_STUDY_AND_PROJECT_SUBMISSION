{
 "cells": [
  {
   "cell_type": "markdown",
   "metadata": {},
   "source": [
    "# STATISTICS CASE STUDY 2"
   ]
  },
  {
   "cell_type": "markdown",
   "metadata": {},
   "source": [
    "Problem Statement 1: In each of the following situations, state whether it is a correctly stated hypothesis testing problem and why? \n",
    "1. 𝐻0: 𝜇 = 25, 𝐻1: 𝜇 ≠ 25 \n",
    "2. 𝐻0: 𝜎 > 10, 𝐻1: 𝜎 = 10 \n",
    "3. 𝐻0: 𝑥 = 50, 𝐻1: 𝑥 ≠ 50 \n",
    "4. 𝐻0: 𝑝 = 0.1, 𝐻1: 𝑝 = 0.5 \n",
    "5. 𝐻0: 𝑠 = 30, 𝐻1: 𝑠 > 30 "
   ]
  },
  {
   "cell_type": "raw",
   "metadata": {},
   "source": [
    "1. Yes, because values in both are statement about population or distribution, have equal values and has inequality in ull hypothesis.\n",
    "\n",
    "2. No, because null hypothesis has an eqaulity claim and alternate hypothesis has inequality.\n",
    "\n",
    "3. No, because hypothesis is stated in terms of statistics and not sample data\n",
    "\n",
    "4. No, because values in both hypothesis is different and has equal sign.\n",
    "\n",
    "5. No, because hypothesis are always statements about population or distribution and not about sample"
   ]
  },
  {
   "cell_type": "markdown",
   "metadata": {},
   "source": [
    "Problem Statement 2: The college bookstore tells prospective students that the average cost of its textbooks is Rs. 52 with a standard deviation of Rs. 4.50. A group of smart statistics students thinks that the average cost is higher. To test the bookstore’s claim against their alternative, the students will select a random sample of size 100. Assume that the mean from their random sample is Rs. 52.80. Perform a hypothesis test at the 5% level of significance and state your decision. "
   ]
  },
  {
   "cell_type": "raw",
   "metadata": {},
   "source": [
    "Ho: µ ≤ 52\n",
    "H1: µ > 52\n",
    "α = 0.05\n",
    "\n",
    "Reject Ho if z>1.645\n",
    "Z = [(52.80-52]/(4.50√100 = 1.78\n",
    "Reject Ho; conclude that the average cost of textbooks is statistically significantly higher than the bookstore’s claim.\n",
    "\n",
    "p = P(z>1.78) = .5 - .4625 = 0.0375 (Note that this is close to the significance level, so it is not very, very strong evidence against the null hypothesis.)\n"
   ]
  },
  {
   "cell_type": "markdown",
   "metadata": {},
   "source": [
    "Problem Statement 3: A certain chemical pollutant in the Genesee River has been constant for several years with mean μ = 34 ppm (parts per million) and standard deviation σ = 8 ppm. A group of factory representatives whose companies discharge liquids into the river is now claiming that they have lowered the average with improved filtration devices. A group of environmentalists will test to see if this is true at the 1% level of significance. Assume \\ that their sample of size 50 gives a mean of 32.5 ppm. Perform a hypothesis test at the 1% level of significance and state your decision."
   ]
  },
  {
   "cell_type": "raw",
   "metadata": {},
   "source": [
    "H0: μ =34\n",
    "Ha: μ <34\n",
    "\n",
    "Significance level is 1%\n",
    "\n",
    "μ =34\n",
    "S = 8\n",
    "n = 50\n",
    "x̄ = 32.5\n",
    "z = (32.5-34)/(8/(50**.5))\n",
    "z = -1.33\n",
    "Critical value of z is -2.58 to +2.58\n",
    "Since computed value of z falls in critical range, so we will accept null hypothesis.\n",
    "Hence the claim is true."
   ]
  },
  {
   "cell_type": "markdown",
   "metadata": {},
   "source": [
    " Problem Statement 4: Based on population figures and other general information on the U.S. population, suppose it has been estimated that, on average, a family of four in the U.S. spends about $1135 annually on dental expenditures. Suppose further that a regional dental association wants to test to determine if this figure is accurate for their area of country. To test this, 22 families of 4 are randomly selected from the population in that area of the country and a log is kept of the family’s dental expenditure for one year. The resulting data are given below. Assuming, that dental expenditure is normally distributed in the population, use the data and an alpha of 0.5 to test the dental association’s hypothesis. 1008, 812, 1117, 1323, 1308, 1415, 831, 1021, 1287, 851, 930, 730, 699, 872, 913, 944, 954, 987, 1695, 995, 1003, 994\n"
   ]
  },
  {
   "cell_type": "raw",
   "metadata": {},
   "source": [
    "H0: μ =1135\n",
    "Ha: μ ≠ 1135\n",
    "\n",
    "Significance level is 5%\n",
    "\n",
    "μ =1135\n",
    "S = 240.37\n",
    "n = 22\n",
    "x̄ = 1031.32\n",
    "z = (1031.32-1135)/(240.37/(22**.5))\n",
    "z = -2.02\n",
    "Critical value of z is -1.96 to +1.96\n",
    "Since computed value of z falls out of critical range, so we will reject null hypothesis."
   ]
  },
  {
   "cell_type": "markdown",
   "metadata": {},
   "source": [
    "Problem Statement 5: In a report prepared by the Economic Research Department of a major bank the Department manager maintains that the average annual family income on Metropolis is 48,432. \n",
    "What do you conclude about the validity of the report if a random sample of 400 families shows and average income of $48,574 with a standard deviation of 2000? "
   ]
  },
  {
   "cell_type": "raw",
   "metadata": {},
   "source": [
    "H0: μ =48432\n",
    "Ha: μ ≠ 48432\n",
    "\n",
    "Significance level is 10%\n",
    "\n",
    "μ = 48432\n",
    "S = 2000\n",
    "n = 400\n",
    "x̄ = 48574\n",
    "z = (48574-48432)/(2000/(400**.5))\n",
    "z = 1.42\n",
    "Critical value of z is -1.645 to +1.645\n",
    "Since computed value of z falls in critical range, so we will accept null hypothesis."
   ]
  },
  {
   "cell_type": "markdown",
   "metadata": {},
   "source": [
    "Problem Statement 6: Suppose that in past years the average price per square foot for warehouses in the United States has been $32.28. A national real estate investor wants to determine whether that figure has changed now. The investor hires a researcher who randomly samples 19 warehouses that are for sale across the United States and finds that the mean price per square foot is $31.67, with a standard deviation of $1.29. assume that the prices of warehouse footage are normally distributed in population. If the researcher uses a 5% level of significance, what statistical conclusion can be reached? What are the hypotheses?"
   ]
  },
  {
   "cell_type": "raw",
   "metadata": {},
   "source": [
    "H0: μ = 32.28\n",
    "Ha: μ ≠ 32.28\n",
    "\n",
    "Significance level is 5%\n",
    "\n",
    "μ = 32.28\n",
    "S = 1.29\n",
    "n = 19\n",
    "x̄ = 31.67\n",
    "z = (31.67-32.28)/(1.29/(19**.5))\n",
    "z = -2.1\n",
    "Critical value of z is -1.96 to +1.96\n",
    "Since computed value of z falls out of critical range, so we will reject null hypothesis."
   ]
  },
  {
   "attachments": {
    "image.png": {
     "image/png": "[encoded data removed]"
    }
   },
   "cell_type": "markdown",
   "metadata": {},
   "source": [
    "Problem Statement 7: Fill in the blank spaces in the table and draw your conclusions from it. \n",
    "![image.png](attachment:image.png)"
   ]
  },
  {
   "cell_type": "raw",
   "metadata": {},
   "source": [
    "    |    Acceptance region    |    Sample Size       |      α        | β at μ = 52 |  β at μ = 50.5\n",
    "    |      48.5 < x̄ < 51.5    |       10             |     0.057     |     0.2643  |    0.89\n",
    "    |      48 < x̄ < 52        |       10             |     0.011     |     0.5     |    0.97\n",
    "    |      48.81 < x̄ < 51.9   |       16             |     0.057     |     0.096   |    0.86\n",
    "    |      48.42 < x̄ < 51.58  |       16             |     0.011     |      0.251  |    0.95\n",
    " \n",
    "The probability of type II error β is not a constant, but depends on the value of the parameter and the sample size\n",
    "we fail to reject H0"
   ]
  },
  {
   "cell_type": "markdown",
   "metadata": {},
   "source": [
    "Problem Statement 8: Find the t-score for a sample size of 16 taken from a population with mean 10 when the sample mean is 12 and the sample standard deviation is 1.5."
   ]
  },
  {
   "cell_type": "raw",
   "metadata": {},
   "source": [
    "x̄, sample mean = 12\n",
    "µo, population mean = 10\n",
    "S, sample std deviation = 1.5\n",
    "n, sample size = 16\n",
    "\n",
    "t = (x̄ - µo)/(S/n^0.5)\n",
    "t = (12-10)/(1.5/4)\n",
    "t = 5.3333\n",
    "\n",
    "Degree of freedom (df) = n-1 = 15\n",
    "t statistics = 5.3333\n",
    "\n",
    "According to T calculator, cumulative probability = 1.00"
   ]
  },
  {
   "cell_type": "markdown",
   "metadata": {},
   "source": [
    "Problem Statement 9: Find the t-score below which we can expect 99% of sample means will fall if samples of size 16 are taken from a normally distributed population."
   ]
  },
  {
   "cell_type": "code",
   "execution_count": null,
   "metadata": {},
   "outputs": [],
   "source": [
    "1 - α = 0.99\n",
    "α = 0.01\n",
    "df = n-1 = 16-1 = 15\n",
    "t(0.99) = t(-0.01) = -2.062"
   ]
  },
  {
   "cell_type": "markdown",
   "metadata": {},
   "source": [
    "Problem Statement 10: If a random sample of size 25 drawn from a normal population gives a mean of 60 and a standard deviation of 4, find the range of t-scores where we can expect to find the middle 95% of all sample means. Compute the probability that (−𝑡0.05 <𝑡<𝑡0.10)."
   ]
  },
  {
   "cell_type": "code",
   "execution_count": null,
   "metadata": {},
   "outputs": [],
   "source": [
    "x̄, sample mean = 12\n",
    "µo, population mean = 60\n",
    "S, sample std deviation = 4\n",
    "n, sample size = 25"
   ]
  },
  {
   "cell_type": "markdown",
   "metadata": {},
   "source": [
    "Problem Statement 11: Two-tailed test for difference between two population means Is there evidence to conclude that the number of people travelling from Bangalore to Chennai is different from the number of people travelling from Bangalore to Hosur in a week, given the following: \n",
    "* Population 1: Bangalore to Chennai \n",
    "1. n1 = 1200 \n",
    "2. x1 = 452 \n",
    "3. s1 = 212 \n",
    "* Population 2: Bangalore to Hosur \n",
    "1. n2 = 800 \n",
    "2. x2 = 523 \n",
    "3. s2 = 185"
   ]
  },
  {
   "cell_type": "code",
   "execution_count": null,
   "metadata": {},
   "outputs": [],
   "source": [
    "Null : µ1 -µ2 = 0\n",
    "Alt : µ1 -µ2 ≠ 0\n",
    "    \n",
    "z = (452-523)-0) / ((212^2/1200) + (185^2/800))**.5\n",
    "z = -71/8.96 = -7.926\n",
    "\n",
    "p-value = p(z<-7.926) ~= 0\n",
    "Hence null hypothesis can be rejected"
   ]
  },
  {
   "cell_type": "markdown",
   "metadata": {},
   "source": [
    "Problem Statement 12: Is there evidence to conclude that the number of people preferring Duracell battery is different from the number of people preferring Energizer battery, given the following:\n",
    "\n",
    "* Population 1: Duracell \n",
    "1. n1 = 100 \n",
    "2. x1 = 308 \n",
    "3. s1 = 84 \n",
    "* Population 2: Energizer \n",
    "1. n2 = 100 \n",
    "2. x2 = 254 \n",
    "3. s2 = 67 "
   ]
  },
  {
   "cell_type": "raw",
   "metadata": {},
   "source": [
    "Null : µ1 -µ2 <= 0\n",
    "Alt : µ1 -µ2 > 0\n",
    "    \n",
    "z = ((x̄1 - x̄2)-(µ1 -µ2) ) / (((σ1^2/n1) + (σ2^2/n2))**.5 )\n",
    "\n",
    "z = (308-254) - 0 / ((84**2/100) + (67**2/100))\n",
    "z = 54/(70.56+44.89)\n",
    "z = 0.4677 = 0.47\n",
    "\n",
    "p(z>0.47) = 0.201\n",
    "\n",
    "Hence Null hypothesis may not be rejected"
   ]
  },
  {
   "cell_type": "markdown",
   "metadata": {},
   "source": [
    "Problem Statement 13: Pooled estimate of the population variance Does the data provide sufficient evidence to conclude that average percentage increase in the price of sugar differs when it is sold at two different prices? \n",
    "* Population 1: Price of sugar = Rs. 27.50 \n",
    "1. n1 = 14 \n",
    "2. x1 = 0.317% \n",
    "3. s1 = 0.12% \n",
    "* Population 2: Price of sugar = Rs. 20.00 \n",
    "1. n2 = 9 \n",
    "2. x2 = 0.21% \n",
    "3. s2 = 0.11%"
   ]
  },
  {
   "cell_type": "raw",
   "metadata": {},
   "source": [
    "Null : µ1 -µ2 = 0\n",
    "Alt : µ1 -µ2 ≠ 0\n",
    "\n",
    "df = (n1 +n2 -2) = 14+9 -2 =21\n",
    "t = (0.107)/((0.00247)**.5)\n",
    "t = .107/0.0497 = 2.154\n",
    "\n",
    "Crtical point t at 0.05 = 2.080\n",
    "Which is less than obtained, so null hypothesis can be rejected."
   ]
  },
  {
   "cell_type": "markdown",
   "metadata": {},
   "source": [
    "Problem Statement 14: The manufacturers of compact disk players want to test whether a small price reduction is enough to increase sales of their product. Is there evidence that the small price reduction is enough to increase sales of compact disk players? \n",
    "* Population 1: Before reduction \n",
    "1. n1 = 15 \n",
    "2. x1 = Rs. 6598 \n",
    "3. s1 = Rs. 844 \n",
    "* Population 2: After reduction \n",
    "1. n2 = 12 \n",
    "2. x2 = RS. 6870 \n",
    "3. s2 = Rs. 669 "
   ]
  },
  {
   "cell_type": "raw",
   "metadata": {},
   "source": [
    "Null : µ1 -µ2 <= 0\n",
    "Alt : µ1 -µ2 > 0\n",
    "    \n",
    "t = (6870-6598) / ((89375.25)**.5)\n",
    "t = 0.91\n",
    "\n",
    "Crtical point t at 0.10 = 1.316\n",
    "So Null hypothesis may not be rejected even at 10% significance level"
   ]
  },
  {
   "cell_type": "markdown",
   "metadata": {},
   "source": [
    "Problem Statement 15: Comparisons of two population proportions when the hypothesized difference is zero Carry out a two-tailed test of the equality of banks’ share of the car loan market in 1980 and 1995.\n",
    "* Population 1: 1980 \n",
    "1. n1 = 1000 \n",
    "2. x1 = 53 \n",
    "3. 𝑝^1 = 0.53\n",
    "* Population 2: 1985 \n",
    "1. n2 = 100 \n",
    "2. x2 = 43 \n",
    "3. 𝑝^ 2= 0.53"
   ]
  },
  {
   "cell_type": "raw",
   "metadata": {},
   "source": [
    "Nul : p1-p2 = 0\n",
    "Alt : p1-p2  ≠ 0\n",
    "\n",
    "z = ((p1-p1) -0) / (p^(1-p^)(1/n1 + 1/n2))\n",
    "z = 0.10/(0.004992)**.5\n",
    "z = 0.10/0.07065 = 1.415\n",
    "\n",
    "Z critical at 0.05 = 1.645\n",
    "\n",
    "Hence Null hypothesis cannot be rejected."
   ]
  },
  {
   "cell_type": "markdown",
   "metadata": {},
   "source": [
    " Problem Statement 16: Carry out a one-tailed test to determine whether the population proportion of traveler’s check buyers who buy at least $2500 in checks when sweepstakes prizes are offered as at least 10% higher than the proportion of such buyers when no sweepstakes are on. \n",
    " * Population 1: With sweepstakes\n",
    " 1. n1 = 300\n",
    " 2. x1 = 120\n",
    " 3. 𝑝^1 = 0.40 \n",
    " * Population 2: No sweepstakes \n",
    " 1. n2 = 700 \n",
    " 2. x2 = 140 \n",
    " 3. 𝑝^ 2= 0.20 "
   ]
  },
  {
   "cell_type": "raw",
   "metadata": {},
   "source": [
    "Null : p1-p2 <= 0.10\n",
    "Alt : p1-p2  > 0.10\n",
    "\n",
    "z = ((0.40-0.20) - 0.10) / (((0.40*0.60)/300) + ((.20*.80)/700))**.5\n",
    "z = 0.10/0.03207 = 3.118\n",
    "\n",
    "Critical z = 3.09\n",
    "Null hypothesis may be rejected"
   ]
  },
  {
   "cell_type": "markdown",
   "metadata": {},
   "source": [
    "Problem Statement 17: A die is thrown 132 times with the following results: Number turned up: 1, 2, 3, 4, 5, 6 Frequency: 16, 20, 25, 14, 29, 28 Is the die unbiased? Consider the degrees of freedom as 𝑝^ − 1."
   ]
  },
  {
   "cell_type": "raw",
   "metadata": {},
   "source": [
    " Null Hypothesis: the die is unbiased.\n",
    "On the basis of hypothesis that the die is unbiased, we expect each number to turn up,\n",
    "\n",
    "132/6=22 times\n",
    "\n",
    "Apply X^2 test\n",
    " O               E           (O-E)^2             (O-E)^2/E\n",
    "16              22              36                  1.64\n",
    "20              22               4                  0.18\n",
    "25              22               9                  0.41\n",
    "14              22              64                  2.91\n",
    "29              22              49                  2.23\n",
    "28              22              36                  1.64\n",
    "\n",
    "Net of (O-E)^2/E = 9.01\n",
    "No of degrees of freedom = n-1=6-1=5\n",
    "For 5 degrees of freedom at 5% level of significance, the table value of X^2 =11.07.\n",
    "The calculated value of X^2 is less than the table value and hence there is no evidence against\n",
    "the hypothesis that die is unbiased."
   ]
  },
  {
   "attachments": {
    "image.png": {
     "image/png": "[encoded data removed]"
    }
   },
   "cell_type": "markdown",
   "metadata": {},
   "source": [
    "Problem Statement 18: In a certain town, there are about one million eligible voters. A simple random sample of 10,000 eligible voters was chosen to study the relationship between gender and participation in the last election. The results are summarized in the following 2X2 (read two by two) contingency table: \n",
    "![image.png](attachment:image.png)\n",
    "We would want to check whether being a man or a woman (columns) is independent of having voted in the last election (rows). In other words, is “gender and voting independent”?"
   ]
  },
  {
   "cell_type": "raw",
   "metadata": {},
   "source": [
    "Null Hypothesis= Gender is independent of voting\n",
    "Alt Hypothesis= Gender and voing are dependent\n",
    "\n",
    "                        Men                Women        Total\n",
    " Voted                 2792                 3591         6386\n",
    " Not Voted             1486                 2131         3617\n",
    "   Total               4278                 5722        10000\n",
    "\n",
    "O               2792        3591           1486         2131\n",
    "E               2731        3652           1547         2070\n",
    "(O-E)^2         3721        3721           3721         3721\n",
    "(o-E)^2/E       1.4         1.0            2.4          1.8\n",
    "\n",
    "Chisquared = 1.4+1.0+2.4+1.8 = 6.6\n",
    "d.f = (2-1)*(2-1) = 1\n",
    "\n",
    "The critical chi squared value = 3.84\n",
    "Since obtained value is greater than the critical chi sqaured value we reject the null hypothesis"
   ]
  },
  {
   "attachments": {
    "image.png": {
     "image/png": "[encoded data removed]"
    }
   },
   "cell_type": "markdown",
   "metadata": {},
   "source": [
    "Problem Statement 19:\n",
    "A sample of 100 voters are asked which of four candidates they would vote for in an election. The number supporting each candidate is given below: \n",
    "![image.png](attachment:image.png)\n",
    "Do the data suggest that all candidates are equally popular? [Chi-Square = 14.96, with 3 df, 𝑝^0.05 ]."
   ]
  },
  {
   "cell_type": "raw",
   "metadata": {},
   "source": [
    "Our expected frequencies 100/4 = 25 per candidate.\n",
    "\n",
    "       \n",
    "\n",
    "O          41      19       24        16          \n",
    "E          25      25       25        25 \n",
    "(O-E)      16      -6       -1        -9\n",
    "(O-E)^2    256      36       1        81\n",
    "(O-E)^2/E  10.24   1.44     0.04     3.24\n",
    "\n",
    "\n",
    "Chi squared = 10.24+ 1.44 + 0.04 + 3.24 = 14.96, with 4 - 1 = 3 degrees of freedom.\n",
    "\n",
    "The critical value of Chi-Square for a 0.05 significance level and 3 d.f. is 7.82. \n",
    "Our obtained Chi-Square value is greater than this, and so we conclude that our obtained value is unlikely to have occurred merely by chance. \n",
    "In fact, our obtained value is bigger than the critical Chi-Square value for the 0.01 significance level (13.28). In other words, it is possible that our obtained Chi-Square value is due merely to chance, but highly unlikely: a Chi-Square value as large as ours will occur by chance only about once in a hundred trials. It seems more reasonable to conclude that our results are not de to chance, and that the data do indeed suggest that voters do not prefer the four candidates equally."
   ]
  },
  {
   "attachments": {
    "image.png": {
     "image/png": "[encoded data removed]"
    }
   },
   "cell_type": "markdown",
   "metadata": {},
   "source": [
    "Problem Statement 20: Children of three ages are asked to indicate their preference for three photographs of adults. Do the data suggest that there is a significant relationship between age and photograph preference? What is wrong with this study? [Chi-Square = 29.6, with 4 df: 𝑝 < 0.05].\n",
    "![image.png](attachment:image.png)"
   ]
  },
  {
   "cell_type": "raw",
   "metadata": {},
   "source": [
    "\n",
    "      photograph:\n",
    "              A                 B                 C           row totals\n",
    "\n",
    "5-6 years     18                22                20          60\n",
    "7-8 years      2                28                40          70\n",
    "9-10 years     20               10                40          70\n",
    "column totals  40               60                100         200 \n",
    "\n",
    "O              18       22      20       2       28       40       20       10        40\n",
    "E              12       18      30      14       21       35       14       21        35\n",
    "(O-E)           6        4     -10      -12       7        5        6       -11        5\n",
    "\n",
    "(O - E)^2      36       16     100      144      49       25       36       121       25\n",
    "\n",
    "(O-E)^2/E       3      0.89    3.33     10.29    2.33     0.71     2.57    5.76      0.71\n",
    "\n",
    " \n",
    "\n",
    "Chi-squared = 29.60.\n",
    "d.f. = (rows - 1) * (columns - 1) = 2 * 2 = 4.\n",
    "\n",
    " \n",
    "The obtained Chi-Square value is bigger than provided.\n",
    "Therefore we have a Chi-Square value which is so large that it would occur by chance only about once in a thousand times. It seems more reasonable to accept the alternative hypothesis, that there is a significant relationship between age of child and photograph preference."
   ]
  },
  {
   "attachments": {
    "image.png": {
     "image/png": "[encoded data removed]"
    }
   },
   "cell_type": "markdown",
   "metadata": {},
   "source": [
    "Problem Statement 21:\n",
    "A study of conformity using the Asch paradigm involved two conditions: one where one confederate supported the true judgement and another where no confederate gave the correct response. \n",
    "![image.png](attachment:image.png)\n",
    "Is there a significant difference between the \"support\" and \"no support\" conditions in the frequency with which individuals are likely to conform? [Chi-Square = 19.87, with 1 df: 𝑝 < 0.05]."
   ]
  },
  {
   "cell_type": "raw",
   "metadata": {},
   "source": [
    "\n",
    "                        support        no support        row totals\n",
    "\n",
    "conform                   18              40                58\n",
    "not conform               32              10                42\n",
    "column totals             50              50                100\n",
    "\n",
    "\n",
    "O     18    40    32   10\n",
    "E     29    29    21   21\n",
    "\n",
    "\n",
    "(|O-E|- 0.5)            10.5    10.5      10.5      10.5\n",
    "\n",
    "(|O-E|- 0.5)^2:        110.25   110.25  110.25      110.25\n",
    "\n",
    "(O-E)^2/E:              3.80     3.80    5.25       5.25\n",
    " \n",
    "\n",
    "Chi-squared = 18.10.\n",
    "d.f. = (rows - 1) * (columns - 1) = 1 * 1 = 1.\n",
    "\n",
    "The obtained value of Chi-Squared is greater than the critical value of Chi-Squared\n",
    "Therefore we can conclude that there is a significant difference between the \"support\" and \"no support\" conditions, in terms of the frequency with which individuals conformed.\n",
    "\n"
   ]
  },
  {
   "attachments": {
    "image.png": {
     "image/png": "[encoded data removed]"
    }
   },
   "cell_type": "markdown",
   "metadata": {},
   "source": [
    "Problem Statement 22:\n",
    "We want to test whether short people differ with respect to their leadership qualities (Genghis Khan, Adolf Hitler and Napoleon were all stature-deprived, and how many midget MP's are there?) The following table shows the frequencies with which 43 short people and 52 tall people were categorized as \"leaders\", \"followers\" or as \"unclassifiable\". Is there a relationship between height and leadership qualities? [Chi-Square = 10.71, with 2 df: 𝑝 < 0.01].\n",
    "![image.png](attachment:image.png)"
   ]
  },
  {
   "cell_type": "raw",
   "metadata": {},
   "source": [
    "Expected frequencies in brackets: \n",
    "                       height\n",
    "              short                tall            total \n",
    "leader        12 (19.92)         32 (24.08)         44\n",
    "follower      22 (16.29)         14 (19.71)         36\n",
    "unclassifiable 9(6.79)           6(8.21)            15\n",
    "\n",
    "column totals:  43                52                95\n",
    "\n",
    "Chi-Square  = 3.146 + 2.602 + 1.998 + 1.652 + 0.720 + 0.595 = 10.712, with 2 d.f.\n",
    "\n",
    "10.712 is bigger than the tabulated value of Chi-Square at the 0.01 significance level. \n",
    "We would conclude that there seems to be a relationship between height and leadership qualities. \n",
    "Note that we can only say that there is a relationship between our two variables, not that once causes the other.\n",
    "There could be all kinds of explanations for such a relationship."
   ]
  },
  {
   "attachments": {
    "image.png": {
     "image/png": "[encoded data removed]"
    }
   },
   "cell_type": "markdown",
   "metadata": {},
   "source": [
    "Problem Statement 23:\n",
    "Each respondent in the Current Population Survey of March 1993 was classified as employed, unemployed, or outside the labor force. The results for men in California age 35-44 can be cross-tabulated by marital status, as follows:\n",
    "![image.png](attachment:image.png)\n",
    "Men of different marital status seem to have different distributions of labor force status. Or is this just chance variation? (you may assume the table results from a simple random sample.)"
   ]
  },
  {
   "cell_type": "raw",
   "metadata": {},
   "source": [
    "DATA TABLE\n",
    "\n",
    "             Col 1     Col 2     Col 3       Mean\n",
    "  \n",
    "  Row 1        679       103       114     298.67\n",
    "  Row 2         63        10        20      31.00\n",
    "  Row 3         42        18        25      28.33\n",
    "  Mean      261.33     43.67     53.00     119.33\n",
    "\n",
    "\n",
    "CHI-SQUARE INDEPENDENCE TEST\n",
    "\n",
    "   Ho: Rows and columns are independent.\n",
    "   Ha: There is a relationship between rows and columns.\n",
    "       (Significance Level = 0.05)\n",
    "\n",
    "\n",
    "  Row        Col 1     Col 2     Col 3        Sum\n",
    "  Obs 1        679       103       114     896.00\n",
    "  Exp 1     654.06    109.29    132.65     896.00\n",
    "  \n",
    "  Obs 2         63        10        20      93.00\n",
    "  Exp 2      67.89     11.34     13.77      93.00\n",
    "  \n",
    "  Obs 3         42        18        25      85.00\n",
    "  Exp 3      62.05     10.37     12.58      85.00\n",
    "  \n",
    "  Sum       784.00    131.00    159.00    1074.00\n",
    "\n",
    "\n",
    "  ChiSq = \n",
    "     (679 - 654.063315)^2 / 654.063315 + \n",
    "     (103 - 109.288641)^2 / 109.288641 + \n",
    "     (114 - 132.648045)^2 / 132.648045 + \n",
    "     (63 - 67.888268)^2 / 67.888268 + \n",
    "     (10 - 11.343575)^2 / 11.343575 + \n",
    "     (20 - 13.768156)^2 / 13.768156 + \n",
    "     (42 - 62.048417)^2 / 62.048417 + \n",
    "     (18 - 10.367784)^2 / 10.367784 + \n",
    "     (25 - 12.583799)^2 / 12.583799\n",
    "    = 31.613103\n",
    "\n",
    "    Degree of Freedom = (3 - 1)(3 - 1) = 4\n",
    "    Critical Value: ChiSq(0.05, 4) = 9.487729\n",
    "\n",
    "    ChiSq = 31.613103\n",
    "\n",
    "    P(>ChiSq) = 2.295E-006 < 0.05\n",
    "\n",
    "    Reject the null hypothesis at the 0.05 significance level.\n",
    "    There is a relationship between rows and columns."
   ]
  }
 ],
 "metadata": {
  "kernelspec": {
   "display_name": "Python 3",
   "language": "python",
   "name": "python3"
  },
  "language_info": {
   "codemirror_mode": {
    "name": "ipython",
    "version": 3
   },
   "file_extension": ".py",
   "mimetype": "text/x-python",
   "name": "python",
   "nbconvert_exporter": "python",
   "pygments_lexer": "ipython3",
   "version": "3.7.1"
  }
 },
 "nbformat": 4,
 "nbformat_minor": 2
}
