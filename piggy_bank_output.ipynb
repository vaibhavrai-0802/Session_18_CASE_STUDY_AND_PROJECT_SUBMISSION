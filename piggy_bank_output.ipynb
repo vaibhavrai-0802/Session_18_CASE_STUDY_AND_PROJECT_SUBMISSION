{
 "cells": [
  {
   "cell_type": "code",
   "execution_count": 1,
   "metadata": {},
   "outputs": [],
   "source": [
    "from piggy_bank import piggy_bank"
   ]
  },
  {
   "cell_type": "code",
   "execution_count": null,
   "metadata": {},
   "outputs": [
    {
     "name": "stdout",
     "output_type": "stream",
     "text": [
      "--------------- Start ---------------\n",
      "Start or End :Start\n",
      "Add(A), Withdraw(W) or Check(C) : Add\n",
      "Add amount : 500\n",
      "After adding, your updated balance is 500.00 rupees\n",
      "Start or End :Start\n",
      "Add(A), Withdraw(W) or Check(C) : A\n",
      "Add amount : 1000\n",
      "After adding, your updated balance is 1500.00 rupees\n",
      "Start or End :Start\n",
      "Add(A), Withdraw(W) or Check(C) : Check\n",
      "Your current balance is 1500.00 rupees\n",
      "Start or End :Start\n",
      "Add(A), Withdraw(W) or Check(C) : Withdraw\n",
      "withdraw amount : 500\n",
      "After withdrawing, balance amount is 1000.00 rupees\n",
      "Start or End :Start\n",
      "Add(A), Withdraw(W) or Check(C) : W\n",
      "withdraw amount : 300\n",
      "After withdrawing, balance amount is 700.00 rupees\n",
      "Start or End :Start\n",
      "Add(A), Withdraw(W) or Check(C) : C\n",
      "Your current balance is 700.00 rupees\n",
      "Start or End :End\n"
     ]
    }
   ],
   "source": [
    "p = piggy_bank()"
   ]
  }
 ],
 "metadata": {
  "kernelspec": {
   "display_name": "Python 3",
   "language": "python",
   "name": "python3"
  },
  "language_info": {
   "codemirror_mode": {
    "name": "ipython",
    "version": 3
   },
   "file_extension": ".py",
   "mimetype": "text/x-python",
   "name": "python",
   "nbconvert_exporter": "python",
   "pygments_lexer": "ipython3",
   "version": "3.7.1"
  }
 },
 "nbformat": 4,
 "nbformat_minor": 2
}
