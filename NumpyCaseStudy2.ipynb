{
 "cells": [
  {
   "cell_type": "markdown",
   "metadata": {},
   "source": [
    "# This case study consists of 1000 marks and the solution file is expected to be submitted in the upcoming session for evaluation."
   ]
  },
  {
   "cell_type": "code",
   "execution_count": 1,
   "metadata": {},
   "outputs": [],
   "source": [
    "import numpy as np"
   ]
  },
  {
   "cell_type": "markdown",
   "metadata": {},
   "source": [
    "### 1.Create two matrices of 3*3 and perform the arithmatic operations metioned in below \"print\" statements"
   ]
  },
  {
   "cell_type": "code",
   "execution_count": 17,
   "metadata": {},
   "outputs": [
    {
     "name": "stdout",
     "output_type": "stream",
     "text": [
      "\n",
      "1st Matrix of random single-digit numbers\n",
      "----------------------------------------\n",
      " [[1 2 3]\n",
      " [4 5 6]\n",
      " [7 8 9]]\n",
      "\n",
      "2nd Matrix of random single-digit numbers\n",
      "----------------------------------------\n",
      " [[4 5 6]\n",
      " [1 2 3]\n",
      " [2 5 8]]\n",
      "\n",
      "Addition\n",
      "------------------\n",
      " [[ 5  7  9]\n",
      " [ 5  7  9]\n",
      " [ 9 13 17]]\n",
      "\n",
      "Multiplication\n",
      "------------------\n",
      " [[ 4 10 18]\n",
      " [ 4 10 18]\n",
      " [14 40 72]]\n",
      "\n",
      "Division\n",
      "------------------\n",
      " [[0.25  0.4   0.5  ]\n",
      " [4.    2.5   2.   ]\n",
      " [3.5   1.6   1.125]]\n",
      "\n",
      "Linear combination: 3*A - 2*B\n",
      "-----------------------------\n",
      " [[-5 -4 -3]\n",
      " [10 11 12]\n",
      " [17 14 11]]\n",
      "\n",
      "Addition of a scalar (100)\n",
      "-------------------------\n",
      " [[101 102 103]\n",
      " [104 105 106]\n",
      " [107 108 109]]\n",
      "\n",
      "Exponentiation, matrix cubed here\n",
      "----------------------------------------\n",
      " [[  1   8  27]\n",
      " [ 64 125 216]\n",
      " [343 512 729]]\n",
      "\n",
      "Exponentiation, mat1 sq-root using pow function\n",
      "-------------------------------------------\n",
      " [[1.         1.41421356 1.73205081]\n",
      " [2.         2.23606798 2.44948974]\n",
      " [2.64575131 2.82842712 3.        ]]\n"
     ]
    }
   ],
   "source": [
    "#solved\n",
    "mat1 = np.array([[1,2,3],[4,5,6],[7,8,9]])\n",
    "mat2 = np.array([[4,5,6],[1,2,3],[2,5,8]])\n",
    "print(\"\\n1st Matrix of random single-digit numbers\\n----------------------------------------\\n\",mat1)\n",
    "print(\"\\n2nd Matrix of random single-digit numbers\\n----------------------------------------\\n\",mat2)\n",
    "\n",
    "\n",
    "print(\"\\nAddition\\n------------------\\n\", mat1 + mat2)\n",
    "print(\"\\nMultiplication\\n------------------\\n\", mat1 * mat2)\n",
    "\n",
    "\n",
    "print(\"\\nDivision\\n------------------\\n\", mat1 / mat2)\n",
    "print(\"\\nLinear combination: 3*A - 2*B\\n-----------------------------\\n\", (3*mat1) - (2*mat2))\n",
    "\n",
    "\n",
    "print(\"\\nAddition of a scalar (100)\\n-------------------------\\n\", np.add(mat1,100))\n",
    "\n",
    "\n",
    "print(\"\\nExponentiation, matrix cubed here\\n----------------------------------------\\n\", mat1**3)\n",
    "print(\"\\nExponentiation, mat1 sq-root using pow function\\n-------------------------------------------\\n\", np.power(mat1, 0.5))"
   ]
  },
  {
   "cell_type": "markdown",
   "metadata": {},
   "source": [
    "Some operations, such as += and *=, act in place to modify an existing array rather than create a new one."
   ]
  },
  {
   "cell_type": "markdown",
   "metadata": {},
   "source": [
    "NumPy provides familiar mathematical functions such as sin, cos, and exp. In NumPy, these are called “universal functions”(ufunc). Within NumPy, these functions operate elementwise on an array, producing an array as output."
   ]
  },
  {
   "cell_type": "markdown",
   "metadata": {},
   "source": [
    "### 2.Create two 3 * 3 matrices and perform the following operations as describe in print statement."
   ]
  },
  {
   "cell_type": "code",
   "execution_count": 109,
   "metadata": {
    "scrolled": true
   },
   "outputs": [
    {
     "name": "stdout",
     "output_type": "stream",
     "text": [
      "\n",
      "1st Matrix of random single-digit numbers\n",
      " -------------------------------------------------- \n",
      " [[5 0 3]\n",
      " [5 4 0]\n",
      " [1 5 2]]\n",
      "\n",
      "2nd Matrix of random single-digit numbers\n",
      " -------------------------------------------------- \n",
      " [[2 6 9]\n",
      " [4 7 3]\n",
      " [9 5 4]]\n",
      "\n",
      "Sum of all numbers in 1st matrix\n",
      " -------------------------------------------------- \n",
      " 25\n",
      "\n",
      "Sum of all numbers in columns of 1st matrix\n",
      " -------------------------------------------------- \n",
      " [11  9  5]\n",
      "\n",
      "Sum of all numbers in rows of 1st matrix\n",
      " -------------------------------------------------- \n",
      " [8 9 8]\n",
      "\n",
      "Product of all numbers in rows of 1st matrix\n",
      " -------------------------------------------------- \n",
      " [ 0  0 10]\n",
      "\n",
      "Product of all numbers in columns of 2nd matrix\n",
      " -------------------------------------------------- \n",
      " [ 72 210 108]\n",
      "\n",
      "Mean of all numbers in 1st matrix\n",
      " -------------------------------------------------- \n",
      " 2.7777777777777777\n",
      "\n",
      "Standard deviation of all numbers in 1st matrix\n",
      " -------------------------------------------------- \n",
      " 1.9876159799998132\n",
      "\n",
      "Modified matrix of random numbers from 1 to 99\n",
      " -------------------------------------------------- \n",
      " [[44 29  3]\n",
      " [98 81 12]\n",
      " [64 44 49]]\n",
      "\n",
      "Standard deviation of all numbers in the modified matrix, a larger number\n",
      " -------------------------------------------------------------------------------- \n",
      " 28.969119360850613\n",
      "\n",
      "Variance of all numbers in the modified matrix, a larger number\n",
      " -------------------------------------------------------------------------------- \n",
      " 839.2098765432098\n",
      "\n",
      "Median of all numbers in the modified matrix\n",
      " ------------------------------------------------------------ \n",
      " 44.0\n"
     ]
    }
   ],
   "source": [
    "from numpy.random import randint as ri\n",
    "mat1 = ri(10,size=(3,3))\n",
    "mat2 = ri(10,size=(3,3))\n",
    "print(\"\\n1st Matrix of random single-digit numbers\\n\",\"-\"*50,\"\\n\",mat1)\n",
    "print(\"\\n2nd Matrix of random single-digit numbers\\n\",\"-\"*50,\"\\n\",mat2)\n",
    "\n",
    "\n",
    "print(\"\\nSum of all numbers in 1st matrix\\n\",\"-\"*50,\"\\n\",np.sum(mat1))\n",
    "print(\"\\nSum of all numbers in columns of 1st matrix\\n\",\"-\"*50,\"\\n\",np.sum(mat1,axis=0))\n",
    "\n",
    "\n",
    "print(\"\\nSum of all numbers in rows of 1st matrix\\n\",\"-\"*50,\"\\n\",np.sum(mat1,axis=1))\n",
    "print(\"\\nProduct of all numbers in rows of 1st matrix\\n\",\"-\"*50,\"\\n\",np.product(mat1,axis=1))\n",
    "\n",
    "\n",
    "print(\"\\nProduct of all numbers in columns of 2nd matrix\\n\",\"-\"*50,\"\\n\",np.product(mat2,axis=0))\n",
    "print(\"\\nMean of all numbers in 1st matrix\\n\",\"-\"*50,\"\\n\",np.mean(mat1))\n",
    "\n",
    "\n",
    "print(\"\\nStandard deviation of all numbers in 1st matrix\\n\",\"-\"*50,\"\\n\",np.std(mat1))\n",
    "\n",
    "\n",
    "mat1 = ri(100,size=(3,3))\n",
    "print(\"\\nModified matrix of random numbers from 1 to 99\\n\",\"-\"*50,\"\\n\",mat1)\n",
    "\n",
    "\n",
    "print(\"\\nStandard deviation of all numbers in the modified matrix, a larger number\\n\",\"-\"*80,\"\\n\",np.std(mat1))\n",
    "\n",
    "\n",
    "print(\"\\nVariance of all numbers in the modified matrix, a larger number\\n\",\"-\"*80,\"\\n\",np.var(mat1))\n",
    "\n",
    "\n",
    "print(\"\\nMedian of all numbers in the modified matrix\\n\",\"-\"*60,\"\\n\",np.median(mat1))\n"
   ]
  },
  {
   "cell_type": "markdown",
   "metadata": {},
   "source": [
    "###  3.Create a 3 \\* 3 Matrix and Modify its shape to 9\\*1 matrix."
   ]
  },
  {
   "cell_type": "code",
   "execution_count": 18,
   "metadata": {},
   "outputs": [
    {
     "data": {
      "text/plain": [
       "array([[1.],\n",
       "       [1.],\n",
       "       [1.],\n",
       "       [1.],\n",
       "       [1.],\n",
       "       [1.],\n",
       "       [1.],\n",
       "       [1.],\n",
       "       [1.]])"
      ]
     },
     "execution_count": 18,
     "metadata": {},
     "output_type": "execute_result"
    }
   ],
   "source": [
    "##Solution...solved\n",
    "samp_mat = np.ones((3,3))\n",
    "samp_mat.reshape(9,1)"
   ]
  },
  {
   "cell_type": "markdown",
   "metadata": {},
   "source": [
    "### 4.Sort"
   ]
  },
  {
   "cell_type": "code",
   "execution_count": 38,
   "metadata": {},
   "outputs": [
    {
     "name": "stdout",
     "output_type": "stream",
     "text": [
      "\n",
      "Vector of 10 random integers from 1 to 100\n",
      " -------------------------------------------------- \n",
      " [81 73 84 52 68 91 73 19 70 60]\n",
      "\n",
      "Here is the sorted vector\n",
      " -------------------------------------------------- \n",
      " [19 52 60 68 70 73 73 81 84 91]\n"
     ]
    }
   ],
   "source": [
    "#solved\n",
    "A = np.random.randint(100, size=10) # Vector of random interegrs\n",
    "print(\"\\nVector of 10 random integers from 1 to 100\\n\",'-'*50,\"\\n\",A)\n",
    "print(\"\\nHere is the sorted vector\\n\",'-'*50,\"\\n\",np.sort(A))\n"
   ]
  },
  {
   "cell_type": "code",
   "execution_count": 43,
   "metadata": {},
   "outputs": [
    {
     "name": "stdout",
     "output_type": "stream",
     "text": [
      "\n",
      "5x5 Matrix of random integers\n",
      " -------------------------------------------------- \n",
      " [[84  5 28 17 69]\n",
      " [12 87 67 12 44]\n",
      " [61 68 44 91 96]\n",
      " [61 42  4  7 23]\n",
      " [59 64  9 44 99]]\n",
      "\n",
      "Here is the sorted matrix along each row\n",
      " -------------------------------------------------- \n",
      " [[ 5 17 28 69 84]\n",
      " [12 12 44 67 87]\n",
      " [44 61 68 91 96]\n",
      " [ 4  7 23 42 61]\n",
      " [ 9 44 59 64 99]]\n",
      "\n",
      "Here is the sorted matrix along each column\n",
      " -------------------------------------------------- \n",
      " [[12  5  4  7 23]\n",
      " [59 42  9 12 44]\n",
      " [61 64 28 17 69]\n",
      " [61 68 44 44 96]\n",
      " [84 87 67 91 99]]\n"
     ]
    }
   ],
   "source": [
    "#solved\n",
    "M = np.random.randint(100, size=(5,5)) #  5*5 Matrix of random interegrs\n",
    "print(\"\\n5x5 Matrix of random integers\\n\",'-'*50,\"\\n\",M)\n",
    "print(\"\\nHere is the sorted matrix along each row\\n\",'-'*50,\"\\n\",np.sort(M,axis=1)) # Default axis =1\n",
    "print(\"\\nHere is the sorted matrix along each column\\n\",'-'*50,\"\\n\",np.sort(M,axis=0))"
   ]
  },
  {
   "cell_type": "markdown",
   "metadata": {},
   "source": [
    "### 5.Create a,b,c  10 element vectors of random integers and perform the respective operation mentioned in print statement"
   ]
  },
  {
   "cell_type": "code",
   "execution_count": 49,
   "metadata": {},
   "outputs": [
    {
     "name": "stdout",
     "output_type": "stream",
     "text": [
      "a: [56 38  9 40 79 69  7 71  0 33]\n",
      "b: [69 39 26 32 29 63 40 22 30 19]\n",
      "c: [80 58 90 34 52 61 69 88 48  4]\n",
      "Max of a: 79\n",
      "Max of b: 69\n",
      "Max of a location: 4\n",
      "Max of b location: 0\n",
      "Max of c location: 2\n",
      "Max of a: 79\n",
      "Max of b: 69\n",
      "Max of a location: 4\n",
      "Max of b location: 0\n",
      "Max of c location: 2\n"
     ]
    }
   ],
   "source": [
    "# solved\n",
    "# Fill the following ***** with appropriate solution.\n",
    "a=np.random.randint(100,size=10)\n",
    "b=np.random.randint(100,size=10)\n",
    "c=np.random.randint(100,size=10)\n",
    "\n",
    "print(\"a:\", a)\n",
    "print(\"b:\", b)\n",
    "print(\"c:\", c)\n",
    "\n",
    "print(\"Max of a:\", np.max(a))\n",
    "print(\"Max of b:\",np.max(b))\n",
    "\n",
    "\n",
    "print(\"Max of a location:\", np.argmax(a))\n",
    "print(\"Max of b location:\", np.argmax(b))\n",
    "print(\"Max of c location:\", np.argmax(c))\n",
    "\n",
    "print(\"Max of a:\", np.max(a))\n",
    "print(\"Max of b:\", np.max(b))\n",
    "\n",
    "\n",
    "print(\"Max of a location:\", np.argmax(a))\n",
    "print(\"Max of b location:\", np.argmax(b))\n",
    "print(\"Max of c location:\", np.argmax(c))\n",
    "\n"
   ]
  },
  {
   "cell_type": "markdown",
   "metadata": {},
   "source": [
    "## Universal functions\n",
    "\n",
    "6. Create 3*3 matrices of random single-digit numbers.<br/>\n",
    "Apply universal functions on it. (square root,exponetial,log10,Modulo etc.)"
   ]
  },
  {
   "cell_type": "code",
   "execution_count": 54,
   "metadata": {},
   "outputs": [
    {
     "name": "stdout",
     "output_type": "stream",
     "text": [
      "\n",
      "1st Matrix of random single-digit numbers\n",
      "----------------------------------------\n",
      " [[0 9 4]\n",
      " [1 1 8]\n",
      " [8 3 1]]\n",
      "\n",
      "2nd Matrix of random single-digit numbers\n",
      "----------------------------------------\n",
      " [[1 1 2]\n",
      " [9 5 6]\n",
      " [9 4 6]]\n",
      "\n",
      "Sq-root of 1st matrix using np\n",
      "------------------\n",
      " [[0.         3.         2.        ]\n",
      " [1.         1.         2.82842712]\n",
      " [2.82842712 1.73205081 1.        ]]\n",
      "\n",
      "Exponential power of 1st matrix using np\n",
      " -------------------------------------------------- \n",
      " [[ 0 81 16]\n",
      " [ 1  1 64]\n",
      " [64  9  1]]\n",
      "\n",
      "10-base logarithm on 1st matrix using np\n",
      " -------------------------------------------------- \n",
      " [[      -inf 2.19722458 1.38629436]\n",
      " [0.         0.         2.07944154]\n",
      " [2.07944154 1.09861229 0.        ]]\n",
      "\n",
      "Modulo reminder using np\n",
      " -------------------------------------------------- \n",
      " [[0 1 0]\n",
      " [1 1 0]\n",
      " [0 1 1]]\n"
     ]
    },
    {
     "name": "stderr",
     "output_type": "stream",
     "text": [
      "C:\\ProgramData\\Anaconda3\\lib\\site-packages\\ipykernel_launcher.py:14: RuntimeWarning: divide by zero encountered in log\n",
      "  \n"
     ]
    }
   ],
   "source": [
    "#solved\n",
    "mat1 = np.random.randint(10,size=(3,3))\n",
    "mat2 = np.random.randint(10,size=(3,3))\n",
    "print(\"\\n1st Matrix of random single-digit numbers\\n----------------------------------------\\n\",mat1)\n",
    "print(\"\\n2nd Matrix of random single-digit numbers\\n----------------------------------------\\n\",mat2)\n",
    "\n",
    "\n",
    "print(\"\\nSq-root of 1st matrix using np\\n------------------\\n\", np.power(mat1,0.5))\n",
    "\n",
    "\n",
    "print(\"\\nExponential power of 1st matrix using np\\n\",'-'*50,\"\\n\", np.power(mat1,2))\n",
    "\n",
    "\n",
    "print(\"\\n10-base logarithm on 1st matrix using np\\n\",'-'*50,\"\\n\", np.log(mat1))\n",
    "\n",
    "\n",
    "print(\"\\nModulo reminder using np\\n\",'-'*50,\"\\n\", np.remainder(mat1,2))\n"
   ]
  },
  {
   "cell_type": "markdown",
   "metadata": {},
   "source": [
    "### 7.Generating matrices from distributions"
   ]
  },
  {
   "cell_type": "code",
   "execution_count": 68,
   "metadata": {},
   "outputs": [
    {
     "data": {
      "text/plain": [
       "array([[0.64233833, 0.50051757, 0.66654331],\n",
       "       [0.33754673, 0.39576521, 0.60009506]])"
      ]
     },
     "execution_count": 68,
     "metadata": {},
     "output_type": "execute_result"
    }
   ],
   "source": [
    "np.random.rand(2,3)"
   ]
  },
  {
   "cell_type": "code",
   "execution_count": 113,
   "metadata": {},
   "outputs": [
    {
     "data": {
      "text/plain": [
       "0.9165706631422691"
      ]
     },
     "execution_count": 113,
     "metadata": {},
     "output_type": "execute_result"
    }
   ],
   "source": [
    "mu, sigma = 0, 1 \n",
    "a = np.random.normal(0, 1, 100)\n",
    "a.std()"
   ]
  },
  {
   "cell_type": "code",
   "execution_count": 118,
   "metadata": {},
   "outputs": [
    {
     "name": "stdout",
     "output_type": "stream",
     "text": [
      "Random number generation (from Uniform distribution)\n",
      "[[0.53311003 0.64295922 0.53331801]\n",
      " [0.43533119 0.65438272 0.95908621]]\n",
      "Numbers from Normal distribution with zero mean and standard deviation 1 i.e. standard normal\n",
      "[ 2.94884417  0.57099289  2.25332342  1.24572637 -0.81365535 -0.38803336\n",
      "  0.33387478  0.01462097 -1.32388227 -0.85457989  0.28139407 -0.65114171\n",
      "  0.16521923  0.25602347  0.04117889 -0.76751837  3.03388688  0.08849204\n",
      "  0.77250402 -0.21562119  0.08296669 -1.02652845 -1.03269955  0.43287069\n",
      " -0.51901827 -0.34927897  0.0130397   0.37876349 -0.0846213   0.12160921\n",
      "  0.95394663 -0.95297255 -0.83062764  0.2343165  -1.18160419 -0.07085649\n",
      " -2.79185082 -0.5354      0.76488729 -0.35870271  0.25355339  0.5744833\n",
      " -1.47971283  0.30173229  0.46682587 -0.58706873  0.02079826 -1.61240317\n",
      " -0.96517723  0.62127167 -1.21129369 -1.01316184  0.67813193 -0.26855044\n",
      "  0.13309015  0.28842337  0.58574227 -1.27204166  1.21861784 -1.46261825\n",
      " -0.27557503 -1.01578307 -0.1510371  -1.45182801 -0.58185562  0.75672327\n",
      " -0.9085837  -0.03759582 -1.06068081 -0.23514107  2.24303703  2.22396087\n",
      "  0.33435428 -0.31050911  1.90805181 -0.51894603 -2.00929686 -0.94131892\n",
      "  0.52009959 -2.50227657 -1.22952715  0.14468555 -1.26704835 -0.39869389\n",
      "  1.7589327   0.25854908 -0.06777159  1.01407439  0.02744689 -1.05033528\n",
      " -0.88934603 -0.13804919 -0.39477615  0.88308175  1.1163861   0.77747676\n",
      "  0.32569453  0.14426979  0.73162286 -0.75081566]\n",
      "Random integer vector: [13 41  6 15 84 48 31 71  1  6]\n",
      "\n",
      "Random integer matrix\n",
      "[[0.97416511 0.15529957 0.51449736 0.23011863 0.10867632 0.47491669\n",
      "  0.09725301 0.56613736 0.98049049 0.23244049 0.0126594  0.08197919\n",
      "  0.65291857 0.32348712 0.55041333 0.26972415 0.02203996 0.30832715\n",
      "  0.63685671 0.58776265 0.35554412 0.66039076 0.77583724 0.77252073\n",
      "  0.45842786 0.43576975 0.26933581 0.90489873 0.1272236  0.80303338\n",
      "  0.89198977 0.35185697 0.36586518 0.7876211  0.42040073 0.3916813\n",
      "  0.2163997  0.92949077 0.60856017 0.57795803 0.94241985 0.54093413\n",
      "  0.85249962 0.48173649 0.29817356 0.3180513  0.75296874 0.6831276\n",
      "  0.93754657 0.21063971 0.76321738 0.85338633 0.9415625  0.01185146\n",
      "  0.11184694 0.54341789 0.01775582 0.7859919  0.05360453 0.4928697\n",
      "  0.42390665 0.38748143 0.70644828 0.23169867 0.32687749 0.13998551\n",
      "  0.34825749 0.49449351 0.49479354 0.94137781 0.29825137 0.81818952\n",
      "  0.49436253 0.27864683 0.26871715 0.35648568 0.53338834 0.60149683\n",
      "  0.17217651 0.08336557 0.93821396 0.88020647 0.0802147  0.97832816\n",
      "  0.74839557 0.36275087 0.89641274 0.92286005 0.35088275 0.45284654\n",
      "  0.55921501 0.76441544 0.09793626 0.10636068 0.37962128 0.96539966\n",
      "  0.29550028 0.86319818 0.25942468 0.40236881]]\n",
      "\n",
      "20 samples drawn from a dice throw: [[2 3 5 4 3 3]]\n"
     ]
    }
   ],
   "source": [
    "\n",
    "print(\"Random number generation (from Uniform distribution)\")\n",
    "print(np.random.rand(2,3)) # 2 by 3 matrix with random numbers ranging from 0 to 1, Note no Tuple is necessary \n",
    "\n",
    "print(\"Numbers from Normal distribution with zero mean and standard deviation 1 i.e. standard normal\")\n",
    "print(np.random.normal(0, 1, 100))\n",
    "\n",
    "print(\"Random integer vector:\",np.random.randint(1,100,10)) #randint (low, high, # of samples to be drawn)\n",
    "print (\"\\nRandom integer matrix\")\n",
    "print(np.random.rand(1,100)) #randint (low, high, # of samples to be drawn in a tuple to form a matrix)\n",
    "\n",
    "print(\"\\n20 samples drawn from a dice throw:\",np.random.multinomial(20, [1/6.]*6, size=1)) # 20 samples drawn from a dice throw"
   ]
  },
  {
   "cell_type": "markdown",
   "metadata": {},
   "source": [
    "### 8.Find the nearest value from a given number in an array using NumPy."
   ]
  },
  {
   "cell_type": "code",
   "execution_count": 66,
   "metadata": {},
   "outputs": [
    {
     "name": "stdout",
     "output_type": "stream",
     "text": [
      "[3 4 7 7 8]\n",
      "[-7 -6 -3 -3 -2]\n",
      "index where difference is minimum 4\n",
      "the element 8\n"
     ]
    }
   ],
   "source": [
    "#Steps\n",
    "#Create an array of 5 random element from 1 to 12\n",
    "#Suppose find the nearest values of 10 in an array so set value=10\n",
    "#find the index where difference is minimum and get the element\n",
    "sam = np.random.randint(12, size=5)\n",
    "print (sam)\n",
    "diff = np.subtract(sam,10)\n",
    "print(diff)\n",
    "i = np.argmax(diff)\n",
    "print(\"index where difference is minimum\", i)\n",
    "print(\"the element\",sam[i])"
   ]
  },
  {
   "cell_type": "markdown",
   "metadata": {},
   "source": [
    "### 9.Write code using numpy to produce following output\n",
    "[[0 0 0] [0 1 2] [0 2 4]]"
   ]
  },
  {
   "cell_type": "code",
   "execution_count": 97,
   "metadata": {},
   "outputs": [
    {
     "name": "stdout",
     "output_type": "stream",
     "text": [
      "[0 1 2]\n",
      "[0 0 0]\n",
      "[0 2 4]\n",
      "__________ \n",
      " [[0 0 0]\n",
      " [0 1 2]\n",
      " [0 2 4]]\n"
     ]
    }
   ],
   "source": [
    "mat = np.array([0,1,2])\n",
    "print(mat)\n",
    "m1 = np.subtract(mat,mat)\n",
    "print(m1)\n",
    "m2 = np.add(mat,mat)\n",
    "print(m2)\n",
    "sam1 = np.column_stack((m1, mat, m2))\n",
    "print('_'*10, '\\n', sam1)"
   ]
  }
 ],
 "metadata": {
  "kernelspec": {
   "display_name": "Python 3",
   "language": "python",
   "name": "python3"
  },
  "language_info": {
   "codemirror_mode": {
    "name": "ipython",
    "version": 3
   },
   "file_extension": ".py",
   "mimetype": "text/x-python",
   "name": "python",
   "nbconvert_exporter": "python",
   "pygments_lexer": "ipython3",
   "version": "3.7.1"
  }
 },
 "nbformat": 4,
 "nbformat_minor": 2
}
